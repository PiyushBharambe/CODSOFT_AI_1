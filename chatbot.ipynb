{
 "cells": [
  {
   "cell_type": "code",
   "execution_count": null,
   "id": "fe5cae8d-8e14-4f2d-9ffc-4735ec6d4d03",
   "metadata": {},
   "outputs": [
    {
     "name": "stdout",
     "output_type": "stream",
     "text": [
      "Chatbot: Hi! I'm a simple chatbot,I'm here to assist you!\n"
     ]
    },
    {
     "name": "stdin",
     "output_type": "stream",
     "text": [
      "Me:  hii\n"
     ]
    },
    {
     "name": "stdout",
     "output_type": "stream",
     "text": [
      "Chatbot: Hi there! I'm a friendly chatbot here to assist you?\n"
     ]
    }
   ],
   "source": [
    "data={\n",
    "    \"hi\":\"Hi there! I'm a friendly chatbot here to assist you?\",\n",
    "    \"hello\":\"Hello! How can I help you today?\",\n",
    "    \"what is your name\":\"I'm just a chatbot,so I don't have a name, but you can call me ChatBot.\",\n",
    "    \"where are you from\":\"I'm from the digital world,always ready to chat!\",\n",
    "    \"how are you\":\"I'm just a chatbot,but I'm here to assist you.\",\n",
    "    \"do you have any hobbies or interests?\":\"I'm always busy helping users, so my hobby is chatting with people like you!\",\n",
    "    \"what did you eat today?\":\"I don't eat,but I can help you find delicious recipes and food-related information.\",\n",
    "    \"what's your favorite color?\":\"I'm a chatbot,so I don't have personal preferences for colors.\",\n",
    "    \"do you enjoy listening to music?\":\"I can't listen to music,but I'm here to chat about it!\",\n",
    "    \"bye\":\"Bye! Take care and have a great day!\",\n",
    "}\n",
    "def get_response(user_input):\n",
    "    for pattern,response in data.items():\n",
    "        if pattern in user_input:\n",
    "            return response\n",
    "    return \"I'm sorry,I didn't understand that.Can you please rephrase your sentence?\"\n",
    "print(\"Chatbot: Hi! I'm a simple chatbot,I'm here to assist you!\")\n",
    "while True:\n",
    "    user_input=input(\"Me: \")\n",
    "    if user_input=='bye':\n",
    "       print(\"Chatbot: Goodbye! Have a great day!\")\n",
    "       break\n",
    "    response=get_response(user_input)\n",
    "    print(\"Chatbot:\",response)"
   ]
  },
  {
   "cell_type": "code",
   "execution_count": null,
   "id": "11790e7e-3f76-4b35-99cd-00b363f01698",
   "metadata": {},
   "outputs": [],
   "source": []
  }
 ],
 "metadata": {
  "kernelspec": {
   "display_name": "Python 3 (ipykernel)",
   "language": "python",
   "name": "python3"
  },
  "language_info": {
   "codemirror_mode": {
    "name": "ipython",
    "version": 3
   },
   "file_extension": ".py",
   "mimetype": "text/x-python",
   "name": "python",
   "nbconvert_exporter": "python",
   "pygments_lexer": "ipython3",
   "version": "3.12.2"
  }
 },
 "nbformat": 4,
 "nbformat_minor": 5
}
